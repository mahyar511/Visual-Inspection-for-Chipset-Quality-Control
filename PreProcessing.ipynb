{
 "cells": [
  {
   "cell_type": "code",
   "execution_count": 1,
   "metadata": {
    "collapsed": true
   },
   "outputs": [],
   "source": [
    "# import genral libraries\n",
    "import numpy as np\n",
    "import pandas as pd\n",
    "import matplotlib.pyplot as plt\n",
    "%matplotlib inline\n",
    "\n",
    "# reading normal adn defect datasets \n",
    "normal_0 = pd.read_csv('normal00.csv')\n",
    "defect_0 = pd.read_csv('defect00.csv')\n",
    "\n",
    "# reshaping data\n",
    "normal_1 = normal_0.T\n",
    "defect_1 = defect_0.T\n",
    "\n",
    "# removing first row\n",
    "normal_2 = normal_1.iloc[1:,:]\n",
    "defect_2 = defect_1.iloc[1:,:]\n",
    "\n",
    "# concatinating two datasets\n",
    "data_0 = pd.concat([normal_2.iloc[0:30], defect_2], ignore_index=True)\n",
    "\n",
    "# shuffling dataset\n",
    "from sklearn.utils import shuffle\n",
    "data_1 = shuffle(data_0, random_state=0)\n",
    "\n",
    "# building feature matrix and label\n",
    "X = data_1.iloc[:,:-1]\n",
    "y = data_1.iloc[:,-1]\n",
    "\n",
    "# spiliting X, y to train-set and test-set \n",
    "from sklearn.model_selection import train_test_split\n",
    "X_train, X_test, y_train, y_test = train_test_split(X, y, test_size=0.33, random_state=42)"
   ]
  }
 ],
 "metadata": {
  "kernelspec": {
   "display_name": "Python 3",
   "language": "python",
   "name": "python3"
  },
  "language_info": {
   "codemirror_mode": {
    "name": "ipython",
    "version": 3
   },
   "file_extension": ".py",
   "mimetype": "text/x-python",
   "name": "python",
   "nbconvert_exporter": "python",
   "pygments_lexer": "ipython3",
   "version": "3.6.1"
  }
 },
 "nbformat": 4,
 "nbformat_minor": 2
}
