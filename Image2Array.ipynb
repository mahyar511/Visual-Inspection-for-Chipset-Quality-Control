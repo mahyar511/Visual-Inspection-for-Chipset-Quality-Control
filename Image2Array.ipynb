{
 "cells": [
  {
   "cell_type": "code",
   "execution_count": null,
   "metadata": {
    "collapsed": true,
    "scrolled": true
   },
   "outputs": [],
   "source": [
    "# import general libraries\n",
    "import matplotlib.pyplot as plt\n",
    "import matplotlib.image as mpimg\n",
    "from PIL import Image\n",
    "import numpy as np    \n",
    "import scipy\n",
    "from scipy import ndimage\n",
    "import imageio"
   ]
  },
  {
   "cell_type": "code",
   "execution_count": null,
   "metadata": {
    "collapsed": true
   },
   "outputs": [],
   "source": [
    "# loading figures from folder\n",
    "\n",
    "import os\n",
    "file_path =r\"C:\\Users\\Mahyar\\Desktop\\chipset\\defect\"\n",
    "for file in os.listdir(file_path):\n",
    "    if file.endswith(\".png\"):\n",
    "        file_name = os.path.join(file_path, file)\n",
    "        "
   ]
  },
  {
   "cell_type": "code",
   "execution_count": null,
   "metadata": {
    "collapsed": true
   },
   "outputs": [],
   "source": [
    "# converting image to numerical matrix\n",
    "import os\n",
    "import pandas as pd\n",
    "import warnings\n",
    "warnings.filterwarnings('ignore')\n",
    "#r\"C:\\Users\\Mahyar\\Desktop\\chipset\\defect\"\n",
    "folder_path =r\"C:\\Users\\Mahyar\\Desktop\\chipset\\normal\"\n",
    "folder_label = 0\n",
    "df = pd.DataFrame()\n",
    "i = 0\n",
    "for file in os.listdir(folder_path):\n",
    "    if file.endswith(\".png\"):\n",
    "        file_name = os.path.join(folder_path, file) \n",
    "        im = imageio.imread (file_name)\n",
    "        im = color.rgb2gray(im)\n",
    "        im_normalized = resize(im, (180,38))\n",
    "        \n",
    "        im = np.array(im_normalized)\n",
    "        resize_factor = 0.5\n",
    "        resize_dim = (int(resize_factor*im.shape[0]), int(resize_factor*im.shape[1]))\n",
    "        im_resized = resize(im, resize_dim)\n",
    "        im_reshaped = im_resized.reshape((1,resize_dim[0]*resize_dim[1]))\n",
    "        df[i] =  np.append(im_reshaped, [folder_label])\n",
    "        i+= 1\n",
    "        \n",
    "print(df.shape)\n",
    "df.to_csv('normal.csv')\n",
    "        "
   ]
  }
 ],
 "metadata": {
  "kernelspec": {
   "display_name": "Python 3",
   "language": "python",
   "name": "python3"
  },
  "language_info": {
   "codemirror_mode": {
    "name": "ipython",
    "version": 3
   },
   "file_extension": ".py",
   "mimetype": "text/x-python",
   "name": "python",
   "nbconvert_exporter": "python",
   "pygments_lexer": "ipython3",
   "version": "3.6.1"
  }
 },
 "nbformat": 4,
 "nbformat_minor": 2
}
